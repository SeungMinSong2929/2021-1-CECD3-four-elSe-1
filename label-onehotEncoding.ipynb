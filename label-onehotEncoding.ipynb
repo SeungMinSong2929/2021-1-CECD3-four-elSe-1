{
 "metadata": {
  "language_info": {
   "codemirror_mode": {
    "name": "ipython",
    "version": 3
   },
   "file_extension": ".py",
   "mimetype": "text/x-python",
   "name": "python",
   "nbconvert_exporter": "python",
   "pygments_lexer": "ipython3",
   "version": "3.7.3-final"
  },
  "orig_nbformat": 2,
  "kernelspec": {
   "name": "python3",
   "display_name": "Python 3.7.3 64-bit (conda)",
   "metadata": {
    "interpreter": {
     "hash": "b3ba2566441a7c06988d0923437866b63cedc61552a5af99d1f4fb67d367b25f"
    }
   }
  }
 },
 "nbformat": 4,
 "nbformat_minor": 2,
 "cells": [
  {
   "cell_type": "code",
   "execution_count": 1,
   "metadata": {},
   "outputs": [],
   "source": [
    "import pandas as pd\n",
    "import os\n",
    "from glob import glob\n",
    "from PIL import Image\n",
    "import matplotlib.pyplot as plt\n",
    "import cv2\n",
    "\n",
    "from urllib import request\n",
    "import urllib\n",
    "from io import BytesIO\n",
    "import numpy as np\n",
    "from skimage import io\n",
    "from tqdm import tqdm\n"
   ]
  },
  {
   "cell_type": "code",
   "execution_count": 2,
   "metadata": {},
   "outputs": [
    {
     "output_type": "execute_result",
     "data": {
      "text/plain": [
       "'.\\\\hanssem_product_images.UTF-8.csv'"
      ]
     },
     "metadata": {},
     "execution_count": 2
    }
   ],
   "source": [
    "csvFile_path = glob(\"./*.csv\")[0]\n",
    "csvFile_path"
   ]
  },
  {
   "cell_type": "code",
   "execution_count": 3,
   "metadata": {},
   "outputs": [],
   "source": [
    "df = pd.read_csv(csvFile_path)\n",
    "test_url = df[\"IMG_URL\"][0]"
   ]
  },
  {
   "cell_type": "code",
   "execution_count": 4,
   "metadata": {},
   "outputs": [
    {
     "output_type": "execute_result",
     "data": {
      "text/plain": [
       "   PROD_ID                       PROD_NM      LV0   LV1             LV2  \\\n",
       "0   578214       바로크홈 Standard V30 매트리스D  침대/침실가구  매트리스  더블 (가로135~140)   \n",
       "1   578215  바로크홈 Standard S30 독립7존 매트리스D  침대/침실가구  매트리스  더블 (가로135~140)   \n",
       "2   543542            [스코나]필링 포켓매트리스(더블)  침대/침실가구  매트리스  더블 (가로135~140)   \n",
       "3   543535          [스코나]블루슬림 포켓매트리스(더블)  침대/침실가구  매트리스  더블 (가로135~140)   \n",
       "4   543529        [스코나]아쿠아볼 포켓매트리스(슈퍼싱글)  침대/침실가구  매트리스  더블 (가로135~140)   \n",
       "\n",
       "                                             IMG_URL  \n",
       "0  https://image.hanssem.com/hsimg//gds/550/578/5...  \n",
       "1  https://image.hanssem.com/hsimg//gds/550/578/5...  \n",
       "2  https://image.hanssem.com/hsimg//gds/550/543/5...  \n",
       "3  https://image.hanssem.com/hsimg//gds/550/543/5...  \n",
       "4  https://image.hanssem.com/hsimg//gds/550/543/5...  "
      ],
      "text/html": "<div>\n<style scoped>\n    .dataframe tbody tr th:only-of-type {\n        vertical-align: middle;\n    }\n\n    .dataframe tbody tr th {\n        vertical-align: top;\n    }\n\n    .dataframe thead th {\n        text-align: right;\n    }\n</style>\n<table border=\"1\" class=\"dataframe\">\n  <thead>\n    <tr style=\"text-align: right;\">\n      <th></th>\n      <th>PROD_ID</th>\n      <th>PROD_NM</th>\n      <th>LV0</th>\n      <th>LV1</th>\n      <th>LV2</th>\n      <th>IMG_URL</th>\n    </tr>\n  </thead>\n  <tbody>\n    <tr>\n      <th>0</th>\n      <td>578214</td>\n      <td>바로크홈 Standard V30 매트리스D</td>\n      <td>침대/침실가구</td>\n      <td>매트리스</td>\n      <td>더블 (가로135~140)</td>\n      <td>https://image.hanssem.com/hsimg//gds/550/578/5...</td>\n    </tr>\n    <tr>\n      <th>1</th>\n      <td>578215</td>\n      <td>바로크홈 Standard S30 독립7존 매트리스D</td>\n      <td>침대/침실가구</td>\n      <td>매트리스</td>\n      <td>더블 (가로135~140)</td>\n      <td>https://image.hanssem.com/hsimg//gds/550/578/5...</td>\n    </tr>\n    <tr>\n      <th>2</th>\n      <td>543542</td>\n      <td>[스코나]필링 포켓매트리스(더블)</td>\n      <td>침대/침실가구</td>\n      <td>매트리스</td>\n      <td>더블 (가로135~140)</td>\n      <td>https://image.hanssem.com/hsimg//gds/550/543/5...</td>\n    </tr>\n    <tr>\n      <th>3</th>\n      <td>543535</td>\n      <td>[스코나]블루슬림 포켓매트리스(더블)</td>\n      <td>침대/침실가구</td>\n      <td>매트리스</td>\n      <td>더블 (가로135~140)</td>\n      <td>https://image.hanssem.com/hsimg//gds/550/543/5...</td>\n    </tr>\n    <tr>\n      <th>4</th>\n      <td>543529</td>\n      <td>[스코나]아쿠아볼 포켓매트리스(슈퍼싱글)</td>\n      <td>침대/침실가구</td>\n      <td>매트리스</td>\n      <td>더블 (가로135~140)</td>\n      <td>https://image.hanssem.com/hsimg//gds/550/543/5...</td>\n    </tr>\n  </tbody>\n</table>\n</div>"
     },
     "metadata": {},
     "execution_count": 4
    }
   ],
   "source": [
    "df.head()"
   ]
  },
  {
   "cell_type": "code",
   "execution_count": 5,
   "metadata": {},
   "outputs": [
    {
     "output_type": "execute_result",
     "data": {
      "text/plain": [
       "array(['소파/거실가구', '식탁/주방가구', '옷장/붙박이장', '유아동가구/용품', '인테리어소가구', '조명',\n",
       "       '책장/책상/의자', '침구/커튼/러그', '침대/침실가구'], dtype=object)"
      ]
     },
     "metadata": {},
     "execution_count": 5
    }
   ],
   "source": [
    "lv0 = np.array(df[\"LV0\"])\n",
    "lv0_names = np.unique(lv0)\n",
    "lv0_names"
   ]
  },
  {
   "cell_type": "code",
   "execution_count": 6,
   "metadata": {},
   "outputs": [],
   "source": [
    "import tensorflow as tf"
   ]
  },
  {
   "cell_type": "code",
   "execution_count": 7,
   "metadata": {},
   "outputs": [],
   "source": [
    "def onehot_encoding(names, label):\n",
    "    return tf.cast(names==label, np.uint8)"
   ]
  },
  {
   "cell_type": "code",
   "execution_count": 8,
   "metadata": {},
   "outputs": [
    {
     "output_type": "execute_result",
     "data": {
      "text/plain": [
       "'침대/침실가구'"
      ]
     },
     "metadata": {},
     "execution_count": 8
    }
   ],
   "source": [
    "df[\"LV0\"][0]"
   ]
  },
  {
   "cell_type": "code",
   "execution_count": 9,
   "metadata": {},
   "outputs": [
    {
     "output_type": "execute_result",
     "data": {
      "text/plain": [
       "<tf.Tensor: shape=(9,), dtype=uint8, numpy=array([0, 0, 0, 0, 0, 0, 0, 0, 1], dtype=uint8)>"
      ]
     },
     "metadata": {},
     "execution_count": 9
    }
   ],
   "source": [
    "onehot_encoding(lv0_names, df[\"LV0\"][0])"
   ]
  },
  {
   "cell_type": "code",
   "execution_count": 10,
   "metadata": {},
   "outputs": [
    {
     "output_type": "execute_result",
     "data": {
      "text/plain": [
       "tensorflow.python.framework.ops.EagerTensor"
      ]
     },
     "metadata": {},
     "execution_count": 10
    }
   ],
   "source": [
    "type(onehot_encoding(lv0_names, df[\"LV0\"][0]))"
   ]
  },
  {
   "cell_type": "code",
   "execution_count": null,
   "metadata": {},
   "outputs": [],
   "source": []
  },
  {
   "cell_type": "code",
   "execution_count": null,
   "metadata": {},
   "outputs": [],
   "source": []
  },
  {
   "cell_type": "code",
   "execution_count": 11,
   "metadata": {},
   "outputs": [],
   "source": [
    "df2 = df.copy()"
   ]
  },
  {
   "cell_type": "code",
   "execution_count": 12,
   "metadata": {},
   "outputs": [
    {
     "output_type": "execute_result",
     "data": {
      "text/plain": [
       "array(['거실장', '거실테이블', '드레스룸', '러그', '매트리스', '바체어', '방조명', '붙박이장', '블라인드',\n",
       "       '소파', '수납', '수납장', '스탠드조명', '식탁', '식탁의자', '옷장', '유아매트', '의자',\n",
       "       '주방수납', '책상', '책장', '침구', '침대', '커튼', '테이블', '테이블조명', '포인트조명'],\n",
       "      dtype=object)"
      ]
     },
     "metadata": {},
     "execution_count": 12
    }
   ],
   "source": [
    "lv1 = np.array(df2[\"LV1\"])\n",
    "lv1_names = np.unique(lv1)\n",
    "lv1_names"
   ]
  },
  {
   "cell_type": "code",
   "execution_count": 13,
   "metadata": {},
   "outputs": [
    {
     "output_type": "execute_result",
     "data": {
      "text/plain": [
       "array(['1~3단 서랍장/협탁', '1인용', '2-3인용', '2~3단', '2~3인용', '2인', '2인용 책상',\n",
       "       '4~6단', '4~6단 서랍장', '4인', '4인용', '4인용 이상', '5인 이상', '6인이상',\n",
       "       'LED 침대', 'LED스탠드 ', 'PVC매트/요가매트/여름자리', 'Q+Q 침대', 'Q+SS 침대',\n",
       "       'Q/D/K 극세사', 'Q/D/K(광목/린넨 내츄럴)', 'Q/D/K(도트/패턴)', 'Q/D/K(러블리/플라워)',\n",
       "       'Q/D/K(무지/솔리드)', 'Q/D/K(차렵)', 'Q/D/K(체크/스트라이프)', 'Q/D/K(캐릭터/일러스트)',\n",
       "       'Q/D/K(호텔/럭셔리)', 'Q/D/K(홑이불)', 'Q/SS 단독형침대', 'S/SS(광목/린넨 내츄럴)',\n",
       "       'S/SS(극세사)', 'S/SS(도트/패턴)', 'S/SS(러블리/플라워)', 'S/SS(무지/솔리드)',\n",
       "       'S/SS(일러스트/캐릭터)', 'S/SS(차렵)', 'S/SS(체크/스트라이프)', 'S/SS(홑이불)',\n",
       "       'SS+SS 침대', '┌ 글로우 슬라이딩 옷장', '┌ 피카 키큰옷장', '└ 바이엘 키큰옷장',\n",
       "       '└ 피카 슬라이딩 옷장', '├ 바이엘 슬라이딩 옷장', '├ 아임빅 슬라이딩 옷장', '가로 100cm 이상',\n",
       "       '가로 40cm', '가로 40~50cm', '가로 40~60cm', '가로 65~120cm',\n",
       "       '가로 80 ~ 100cm', '가로 80cm', '가로 90cm', '가죽', '가죽 침대', '가죽소파',\n",
       "       '각도조절책상', '거실조명', '거울/커튼형', '극세사이불', '기능성 의자', '기능성 책상',\n",
       "       '기능성 침구 기타', '기능성 침대', '기저귀수납', '기타', '기타/조명ACC', '깊이 60cm',\n",
       "       '너비 60cm 이하', '너비_ 130cm 이상', '너비_ 70~80cm ', '너비_ 90~120cm ',\n",
       "       '너비_100cm이하', '너비_1m이상', '너비_60cm미만', '너비_60cm이상~1m미만',\n",
       "       '너비_90cm미만', '네추럴(우드)', '높은거실장/수납장', '높이_ 1~3단', '높이_ 4~5단',\n",
       "       '높이_ 6단 이상', '높이_2/3단', '높이_4/5단', '대리석', '더블 (가로135~140)',\n",
       "       '더블침대 모아보기', '독서실 책상', '돌/흙침대보료', '디자인 의자', '디자인러그', '라텍스/메모리폼 매트',\n",
       "       '램프등/샹들리에', '레일조명', '렌지대', '로만쉐이드', '롤스크린', '롤업커튼', '리프트업 테이블',\n",
       "       '매트 액세서리', '매트리스커버', '면러그/워싱카페트', '모던', '목대드레스룸(깊이40cm)',\n",
       "       '목대드레스룸(깊이60cm)', '목대형 드레스룸', '무헤드/기본 침대', '바란스/캐노피/가리개', '바체어',\n",
       "       '바테이블', '발매트', '방등', '방수커버/매트리스커버', '방조명', '범퍼침대', '베개', '베개/매트커버',\n",
       "       '베개/베캐커버', '베개커버(무지/솔리드)', '베개커버(솜포함)', '베개커버(프린팅/일러스트)',\n",
       "       '베이비장(낮은옷장)', '베이직러그(솔리드)', '벤치의자', '벽등/포인트등', '벽선반', '빈백',\n",
       "       '빈티지(유리/스틸)', '사이드 테이블', '사이잘카페트', '샤기카페트', '서랍/수납형', '서랍장',\n",
       "       '서랍형 책상', '서재/사무용 의자', '선반/장', '선반장/장식장', '센서등', '소파',\n",
       "       '소파 패키지 초특가', '소파패드', '송치카페트', '수납 액세서리', '수납 침대',\n",
       "       '수납_ h형(책장형) 책상', '수납_ 전면 책상', '수납_ 책상+책장', '수납장/캐비넷', '수유등/무드등',\n",
       "       '슈퍼싱글 (가로110)', '스탠드 조명', '스툴', '스툴/소파ACC', '스툴/좌식의자', '스틸 침대',\n",
       "       '스틸드레스룸(깊이40cm)', '슬라이딩 붙박이장', '슬라이딩 옷장', '시스템거실장', '식탁', '식탁의자',\n",
       "       '신발장', '신소재소파', '싱글 (가로110 미만)', '싱글침대 모아보기', '아기침대', '아동 의자',\n",
       "       '아일랜드 식탁의자', '안락/중역용 의자', '알러지 기능성 카페트', '알루미늄 블라인드',\n",
       "       '암막커튼(러블리/플라워)', '암막커튼(무지/솔리드)', '암막커튼(북유럽/프린팅)', '암막커튼(투톤/기타)',\n",
       "       '액세서리 옵션', '엑세서리옵션', '여닫이 붙박이장', '여닫이 옷장', '옷장', '옷장 세트', '옷장세트',\n",
       "       '옷장액세서리', '와이드 서랍장', '요/요커버', '요이불세트', '우드', '우드 블라인드', '우드/내추럴',\n",
       "       '원목 수납장', '원목 침대', '원목/무늬목 테이블', '원목선반장', '원목수납장', '원형러그',\n",
       "       '유리/대리석 테이블', '유아소파', '유아의자', '유아책상', '의자 액세서리', '이동/서랍장', '이동서랍장',\n",
       "       '이불/베개/패드', '이불커버', '이층/벙커 침대', '이층/벙커침대', '일반등', '일반책장', '일자형',\n",
       "       '일자형 책상', '장난감수납', '장식장', '전면책장', '좌식 책상', '주니어장(높은옷장)', '주방 수납장',\n",
       "       '주방수납장', '주방조명', '차렵이불', '책꽂이', '책상 액세서리', '책상의자', '책장',\n",
       "       '책장 도어액세서리', '책장 수납액세서리', '책장/신발장', '천연가죽', '천연가죽소파', '철제',\n",
       "       '철제 수납장', '철제선반장', '철제수납장', '철제형 드레스룸', '침구단품', '침구세트', '침대',\n",
       "       '침대 액세서리', '침대가드/ACC', '커튼(극세사/방한커튼)', '커튼(러블리/플라워)',\n",
       "       '커튼(레이스/쉬폰/속커튼)', '커튼(린넨)', '커튼(무지/솔리드)', '커튼(북유럽/프린팅)', '커튼(자수)',\n",
       "       '커튼(키즈/캐릭터)', '커튼(투톤/기타)', '커튼봉/액세서리', '컴퓨터 책상', '콤비 블라인드',\n",
       "       '퀸 (가로150)', '클램프/집게형 조명', '키즈/캐릭터 매트', '킹 (가로160 이상)', '킹침대 모아보기',\n",
       "       '테이블/플로어 세트 PKG', '테이블조명', '텐트/놀이집', '토퍼', '트리플 블라인드', '틈새 수납장',\n",
       "       '틈새 옷장', '틈새수납장', '패드/스프레드', '패브릭', '패브릭 침대', '패브릭매트', '패브릭소파',\n",
       "       '폴더매트', '프레임/갤러리', '프린팅 러그(DTP)', '플라스틱', '플로어조명', '하이그로시',\n",
       "       '학습 의자', '한샘 거실테이블', '한샘 옷장', '한샘 유아매트/텐트', '한샘수납장', '한샘책상',\n",
       "       '한샘책장', '합성가죽', '합성가죽소파', '행거', '행거/선반형', '허니콤 블라인드',\n",
       "       '헤드레스트/스툴/소파ACC', '협탁', '혼수/예단침구', '화장대', '화장대/서랍장', '확장형',\n",
       "       '확장형/기능성식탁'], dtype=object)"
      ]
     },
     "metadata": {},
     "execution_count": 13
    }
   ],
   "source": [
    "lv2 = np.array(df2[\"LV2\"])\n",
    "lv2_names = np.unique(lv2)\n",
    "lv2_names"
   ]
  },
  {
   "cell_type": "code",
   "execution_count": 14,
   "metadata": {},
   "outputs": [
    {
     "output_type": "stream",
     "name": "stderr",
     "text": [
      "  0%|          | 0/67047 [00:00<?, ?it/s]ipykernel_launcher:2: SettingWithCopyWarning: \n",
      "A value is trying to be set on a copy of a slice from a DataFrame\n",
      "\n",
      "See the caveats in the documentation: https://pandas.pydata.org/pandas-docs/stable/user_guide/indexing.html#returning-a-view-versus-a-copy\n",
      "ipykernel_launcher:3: SettingWithCopyWarning: \n",
      "A value is trying to be set on a copy of a slice from a DataFrame\n",
      "\n",
      "See the caveats in the documentation: https://pandas.pydata.org/pandas-docs/stable/user_guide/indexing.html#returning-a-view-versus-a-copy\n",
      "ipykernel_launcher:4: SettingWithCopyWarning: \n",
      "A value is trying to be set on a copy of a slice from a DataFrame\n",
      "\n",
      "See the caveats in the documentation: https://pandas.pydata.org/pandas-docs/stable/user_guide/indexing.html#returning-a-view-versus-a-copy\n",
      "100%|██████████| 67047/67047 [04:11<00:00, 266.28it/s]\n"
     ]
    }
   ],
   "source": [
    "for i in tqdm(df2.index):\n",
    "     df2[\"LV0\"][i] = onehot_encoding(lv0_names, df2[\"LV0\"][i])\n",
    "     df2[\"LV1\"][i]= onehot_encoding(lv1_names, df2[\"LV1\"][i])\n",
    "     df2[\"LV2\"][i] = onehot_encoding(lv2_names, df2[\"LV2\"][i])"
   ]
  },
  {
   "cell_type": "code",
   "execution_count": 15,
   "metadata": {},
   "outputs": [
    {
     "output_type": "execute_result",
     "data": {
      "text/plain": [
       "   PROD_ID                       PROD_NM  \\\n",
       "0   578214       바로크홈 Standard V30 매트리스D   \n",
       "1   578215  바로크홈 Standard S30 독립7존 매트리스D   \n",
       "2   543542            [스코나]필링 포켓매트리스(더블)   \n",
       "3   543535          [스코나]블루슬림 포켓매트리스(더블)   \n",
       "4   543529        [스코나]아쿠아볼 포켓매트리스(슈퍼싱글)   \n",
       "\n",
       "                                                 LV0  \\\n",
       "0  (tf.Tensor(0, shape=(), dtype=uint8), tf.Tenso...   \n",
       "1  (tf.Tensor(0, shape=(), dtype=uint8), tf.Tenso...   \n",
       "2  (tf.Tensor(0, shape=(), dtype=uint8), tf.Tenso...   \n",
       "3  (tf.Tensor(0, shape=(), dtype=uint8), tf.Tenso...   \n",
       "4  (tf.Tensor(0, shape=(), dtype=uint8), tf.Tenso...   \n",
       "\n",
       "                                                 LV1  \\\n",
       "0  (tf.Tensor(0, shape=(), dtype=uint8), tf.Tenso...   \n",
       "1  (tf.Tensor(0, shape=(), dtype=uint8), tf.Tenso...   \n",
       "2  (tf.Tensor(0, shape=(), dtype=uint8), tf.Tenso...   \n",
       "3  (tf.Tensor(0, shape=(), dtype=uint8), tf.Tenso...   \n",
       "4  (tf.Tensor(0, shape=(), dtype=uint8), tf.Tenso...   \n",
       "\n",
       "                                                 LV2  \\\n",
       "0  (tf.Tensor(0, shape=(), dtype=uint8), tf.Tenso...   \n",
       "1  (tf.Tensor(0, shape=(), dtype=uint8), tf.Tenso...   \n",
       "2  (tf.Tensor(0, shape=(), dtype=uint8), tf.Tenso...   \n",
       "3  (tf.Tensor(0, shape=(), dtype=uint8), tf.Tenso...   \n",
       "4  (tf.Tensor(0, shape=(), dtype=uint8), tf.Tenso...   \n",
       "\n",
       "                                             IMG_URL  \n",
       "0  https://image.hanssem.com/hsimg//gds/550/578/5...  \n",
       "1  https://image.hanssem.com/hsimg//gds/550/578/5...  \n",
       "2  https://image.hanssem.com/hsimg//gds/550/543/5...  \n",
       "3  https://image.hanssem.com/hsimg//gds/550/543/5...  \n",
       "4  https://image.hanssem.com/hsimg//gds/550/543/5...  "
      ],
      "text/html": "<div>\n<style scoped>\n    .dataframe tbody tr th:only-of-type {\n        vertical-align: middle;\n    }\n\n    .dataframe tbody tr th {\n        vertical-align: top;\n    }\n\n    .dataframe thead th {\n        text-align: right;\n    }\n</style>\n<table border=\"1\" class=\"dataframe\">\n  <thead>\n    <tr style=\"text-align: right;\">\n      <th></th>\n      <th>PROD_ID</th>\n      <th>PROD_NM</th>\n      <th>LV0</th>\n      <th>LV1</th>\n      <th>LV2</th>\n      <th>IMG_URL</th>\n    </tr>\n  </thead>\n  <tbody>\n    <tr>\n      <th>0</th>\n      <td>578214</td>\n      <td>바로크홈 Standard V30 매트리스D</td>\n      <td>(tf.Tensor(0, shape=(), dtype=uint8), tf.Tenso...</td>\n      <td>(tf.Tensor(0, shape=(), dtype=uint8), tf.Tenso...</td>\n      <td>(tf.Tensor(0, shape=(), dtype=uint8), tf.Tenso...</td>\n      <td>https://image.hanssem.com/hsimg//gds/550/578/5...</td>\n    </tr>\n    <tr>\n      <th>1</th>\n      <td>578215</td>\n      <td>바로크홈 Standard S30 독립7존 매트리스D</td>\n      <td>(tf.Tensor(0, shape=(), dtype=uint8), tf.Tenso...</td>\n      <td>(tf.Tensor(0, shape=(), dtype=uint8), tf.Tenso...</td>\n      <td>(tf.Tensor(0, shape=(), dtype=uint8), tf.Tenso...</td>\n      <td>https://image.hanssem.com/hsimg//gds/550/578/5...</td>\n    </tr>\n    <tr>\n      <th>2</th>\n      <td>543542</td>\n      <td>[스코나]필링 포켓매트리스(더블)</td>\n      <td>(tf.Tensor(0, shape=(), dtype=uint8), tf.Tenso...</td>\n      <td>(tf.Tensor(0, shape=(), dtype=uint8), tf.Tenso...</td>\n      <td>(tf.Tensor(0, shape=(), dtype=uint8), tf.Tenso...</td>\n      <td>https://image.hanssem.com/hsimg//gds/550/543/5...</td>\n    </tr>\n    <tr>\n      <th>3</th>\n      <td>543535</td>\n      <td>[스코나]블루슬림 포켓매트리스(더블)</td>\n      <td>(tf.Tensor(0, shape=(), dtype=uint8), tf.Tenso...</td>\n      <td>(tf.Tensor(0, shape=(), dtype=uint8), tf.Tenso...</td>\n      <td>(tf.Tensor(0, shape=(), dtype=uint8), tf.Tenso...</td>\n      <td>https://image.hanssem.com/hsimg//gds/550/543/5...</td>\n    </tr>\n    <tr>\n      <th>4</th>\n      <td>543529</td>\n      <td>[스코나]아쿠아볼 포켓매트리스(슈퍼싱글)</td>\n      <td>(tf.Tensor(0, shape=(), dtype=uint8), tf.Tenso...</td>\n      <td>(tf.Tensor(0, shape=(), dtype=uint8), tf.Tenso...</td>\n      <td>(tf.Tensor(0, shape=(), dtype=uint8), tf.Tenso...</td>\n      <td>https://image.hanssem.com/hsimg//gds/550/543/5...</td>\n    </tr>\n  </tbody>\n</table>\n</div>"
     },
     "metadata": {},
     "execution_count": 15
    }
   ],
   "source": [
    "df2.head()"
   ]
  },
  {
   "cell_type": "code",
   "execution_count": 16,
   "metadata": {},
   "outputs": [],
   "source": [
    "df2.to_csv(\"onehot_type_tf.csv\", index=False, encoding=\"utf-8-sig\")"
   ]
  },
  {
   "cell_type": "code",
   "execution_count": 18,
   "metadata": {},
   "outputs": [
    {
     "output_type": "execute_result",
     "data": {
      "text/plain": [
       "   PROD_ID                       PROD_NM                  LV0  \\\n",
       "0   578214       바로크홈 Standard V30 매트리스D  [0 0 0 0 0 0 0 0 1]   \n",
       "1   578215  바로크홈 Standard S30 독립7존 매트리스D  [0 0 0 0 0 0 0 0 1]   \n",
       "2   543542            [스코나]필링 포켓매트리스(더블)  [0 0 0 0 0 0 0 0 1]   \n",
       "3   543535          [스코나]블루슬림 포켓매트리스(더블)  [0 0 0 0 0 0 0 0 1]   \n",
       "4   543529        [스코나]아쿠아볼 포켓매트리스(슈퍼싱글)  [0 0 0 0 0 0 0 0 1]   \n",
       "\n",
       "                                                 LV1  \\\n",
       "0  [0 0 0 0 1 0 0 0 0 0 0 0 0 0 0 0 0 0 0 0 0 0 0...   \n",
       "1  [0 0 0 0 1 0 0 0 0 0 0 0 0 0 0 0 0 0 0 0 0 0 0...   \n",
       "2  [0 0 0 0 1 0 0 0 0 0 0 0 0 0 0 0 0 0 0 0 0 0 0...   \n",
       "3  [0 0 0 0 1 0 0 0 0 0 0 0 0 0 0 0 0 0 0 0 0 0 0...   \n",
       "4  [0 0 0 0 1 0 0 0 0 0 0 0 0 0 0 0 0 0 0 0 0 0 0...   \n",
       "\n",
       "                                                 LV2  \\\n",
       "0  [0 0 0 0 0 0 0 0 0 0 0 0 0 0 0 0 0 0 0 0 0 0 0...   \n",
       "1  [0 0 0 0 0 0 0 0 0 0 0 0 0 0 0 0 0 0 0 0 0 0 0...   \n",
       "2  [0 0 0 0 0 0 0 0 0 0 0 0 0 0 0 0 0 0 0 0 0 0 0...   \n",
       "3  [0 0 0 0 0 0 0 0 0 0 0 0 0 0 0 0 0 0 0 0 0 0 0...   \n",
       "4  [0 0 0 0 0 0 0 0 0 0 0 0 0 0 0 0 0 0 0 0 0 0 0...   \n",
       "\n",
       "                                             IMG_URL  \n",
       "0  https://image.hanssem.com/hsimg//gds/550/578/5...  \n",
       "1  https://image.hanssem.com/hsimg//gds/550/578/5...  \n",
       "2  https://image.hanssem.com/hsimg//gds/550/543/5...  \n",
       "3  https://image.hanssem.com/hsimg//gds/550/543/5...  \n",
       "4  https://image.hanssem.com/hsimg//gds/550/543/5...  "
      ],
      "text/html": "<div>\n<style scoped>\n    .dataframe tbody tr th:only-of-type {\n        vertical-align: middle;\n    }\n\n    .dataframe tbody tr th {\n        vertical-align: top;\n    }\n\n    .dataframe thead th {\n        text-align: right;\n    }\n</style>\n<table border=\"1\" class=\"dataframe\">\n  <thead>\n    <tr style=\"text-align: right;\">\n      <th></th>\n      <th>PROD_ID</th>\n      <th>PROD_NM</th>\n      <th>LV0</th>\n      <th>LV1</th>\n      <th>LV2</th>\n      <th>IMG_URL</th>\n    </tr>\n  </thead>\n  <tbody>\n    <tr>\n      <th>0</th>\n      <td>578214</td>\n      <td>바로크홈 Standard V30 매트리스D</td>\n      <td>[0 0 0 0 0 0 0 0 1]</td>\n      <td>[0 0 0 0 1 0 0 0 0 0 0 0 0 0 0 0 0 0 0 0 0 0 0...</td>\n      <td>[0 0 0 0 0 0 0 0 0 0 0 0 0 0 0 0 0 0 0 0 0 0 0...</td>\n      <td>https://image.hanssem.com/hsimg//gds/550/578/5...</td>\n    </tr>\n    <tr>\n      <th>1</th>\n      <td>578215</td>\n      <td>바로크홈 Standard S30 독립7존 매트리스D</td>\n      <td>[0 0 0 0 0 0 0 0 1]</td>\n      <td>[0 0 0 0 1 0 0 0 0 0 0 0 0 0 0 0 0 0 0 0 0 0 0...</td>\n      <td>[0 0 0 0 0 0 0 0 0 0 0 0 0 0 0 0 0 0 0 0 0 0 0...</td>\n      <td>https://image.hanssem.com/hsimg//gds/550/578/5...</td>\n    </tr>\n    <tr>\n      <th>2</th>\n      <td>543542</td>\n      <td>[스코나]필링 포켓매트리스(더블)</td>\n      <td>[0 0 0 0 0 0 0 0 1]</td>\n      <td>[0 0 0 0 1 0 0 0 0 0 0 0 0 0 0 0 0 0 0 0 0 0 0...</td>\n      <td>[0 0 0 0 0 0 0 0 0 0 0 0 0 0 0 0 0 0 0 0 0 0 0...</td>\n      <td>https://image.hanssem.com/hsimg//gds/550/543/5...</td>\n    </tr>\n    <tr>\n      <th>3</th>\n      <td>543535</td>\n      <td>[스코나]블루슬림 포켓매트리스(더블)</td>\n      <td>[0 0 0 0 0 0 0 0 1]</td>\n      <td>[0 0 0 0 1 0 0 0 0 0 0 0 0 0 0 0 0 0 0 0 0 0 0...</td>\n      <td>[0 0 0 0 0 0 0 0 0 0 0 0 0 0 0 0 0 0 0 0 0 0 0...</td>\n      <td>https://image.hanssem.com/hsimg//gds/550/543/5...</td>\n    </tr>\n    <tr>\n      <th>4</th>\n      <td>543529</td>\n      <td>[스코나]아쿠아볼 포켓매트리스(슈퍼싱글)</td>\n      <td>[0 0 0 0 0 0 0 0 1]</td>\n      <td>[0 0 0 0 1 0 0 0 0 0 0 0 0 0 0 0 0 0 0 0 0 0 0...</td>\n      <td>[0 0 0 0 0 0 0 0 0 0 0 0 0 0 0 0 0 0 0 0 0 0 0...</td>\n      <td>https://image.hanssem.com/hsimg//gds/550/543/5...</td>\n    </tr>\n  </tbody>\n</table>\n</div>"
     },
     "metadata": {},
     "execution_count": 18
    }
   ],
   "source": [
    "df3 = pd.read_csv(\"onehot_type_ndarray.csv\")\n",
    "df3.head()"
   ]
  },
  {
   "cell_type": "code",
   "execution_count": null,
   "metadata": {},
   "outputs": [],
   "source": []
  }
 ]
}