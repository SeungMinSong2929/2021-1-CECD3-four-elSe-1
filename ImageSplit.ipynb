{
 "metadata": {
  "language_info": {
   "codemirror_mode": {
    "name": "ipython",
    "version": 3
   },
   "file_extension": ".py",
   "mimetype": "text/x-python",
   "name": "python",
   "nbconvert_exporter": "python",
   "pygments_lexer": "ipython3",
   "version": "3.7.3"
  },
  "orig_nbformat": 2,
  "kernelspec": {
   "name": "python373jvsc74a57bd0b3ba2566441a7c06988d0923437866b63cedc61552a5af99d1f4fb67d367b25f",
   "display_name": "Python 3.7.3 64-bit (conda)"
  }
 },
 "nbformat": 4,
 "nbformat_minor": 2,
 "cells": [
  {
   "cell_type": "code",
   "execution_count": 1,
   "metadata": {},
   "outputs": [],
   "source": [
    "import os\n",
    "from glob import glob\n",
    "import tqdm\n",
    "\n"
   ]
  },
  {
   "cell_type": "code",
   "execution_count": 47,
   "metadata": {},
   "outputs": [],
   "source": [
    "imageDir_path = \"D:/download/수납장_중복제거/화장대\""
   ]
  },
  {
   "cell_type": "code",
   "execution_count": 48,
   "metadata": {},
   "outputs": [
    {
     "output_type": "execute_result",
     "data": {
      "text/plain": [
       "292"
      ]
     },
     "metadata": {},
     "execution_count": 48
    }
   ],
   "source": [
    "idx = round(len(os.listdir(imageDir_path)) * 0.3)\n",
    "idx"
   ]
  },
  {
   "cell_type": "code",
   "execution_count": 49,
   "metadata": {},
   "outputs": [],
   "source": [
    "song = [img for img in os.listdir(imageDir_path)[:idx]]\n",
    "park = [img for img in os.listdir(imageDir_path)[idx:idx*2]]\n",
    "jeon = [img for img in os.listdir(imageDir_path)[idx*2:idx*3]]\n",
    "kim = [img for img in os.listdir(imageDir_path)[idx*3:]]"
   ]
  },
  {
   "cell_type": "code",
   "execution_count": 50,
   "metadata": {},
   "outputs": [],
   "source": [
    "import shutil"
   ]
  },
  {
   "cell_type": "code",
   "execution_count": 51,
   "metadata": {},
   "outputs": [],
   "source": [
    "def split(dirName,arr):\n",
    "    os.makedirs(imageDir_path+dirName)\n",
    "    for file in arr:\n",
    "        shutil.move(f\"{imageDir_path}/{file}\", imageDir_path+dirName)\n"
   ]
  },
  {
   "cell_type": "code",
   "execution_count": null,
   "metadata": {},
   "outputs": [],
   "source": []
  },
  {
   "cell_type": "code",
   "execution_count": 52,
   "metadata": {},
   "outputs": [],
   "source": [
    "split(\"/송승민_화장대\",song)\n",
    "split(\"/박범수_화장대\",park)\n",
    "split(\"/전문수_화장대\",jeon)\n",
    "split(\"/김희수_화장대\",kim)"
   ]
  },
  {
   "cell_type": "code",
   "execution_count": 21,
   "metadata": {},
   "outputs": [
    {
     "output_type": "execute_result",
     "data": {
      "text/plain": [
       "'D:/download/침대이미지_중복제거/원목 침대/송승민_원목침대'"
      ]
     },
     "metadata": {},
     "execution_count": 21
    }
   ],
   "source": [
    "imageDir_path+\"/\"+\"송승민_원목침대\""
   ]
  },
  {
   "cell_type": "code",
   "execution_count": null,
   "metadata": {},
   "outputs": [],
   "source": []
  }
 ]
}