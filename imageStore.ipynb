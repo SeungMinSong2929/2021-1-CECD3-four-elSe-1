{
 "metadata": {
  "language_info": {
   "codemirror_mode": {
    "name": "ipython",
    "version": 3
   },
   "file_extension": ".py",
   "mimetype": "text/x-python",
   "name": "python",
   "nbconvert_exporter": "python",
   "pygments_lexer": "ipython3",
   "version": "3.7.3-final"
  },
  "orig_nbformat": 2,
  "kernelspec": {
   "name": "python373jvsc74a57bd0b3ba2566441a7c06988d0923437866b63cedc61552a5af99d1f4fb67d367b25f",
   "display_name": "Python 3.7.3 64-bit (conda)"
  }
 },
 "nbformat": 4,
 "nbformat_minor": 2,
 "cells": [
  {
   "cell_type": "code",
   "execution_count": 1,
   "metadata": {},
   "outputs": [],
   "source": [
    "import pandas as pd\n",
    "import os\n",
    "from glob import glob\n",
    "from PIL import Image\n",
    "import matplotlib.pyplot as plt\n",
    "import cv2\n",
    "\n",
    "from urllib import request\n",
    "import urllib\n",
    "from io import BytesIO\n",
    "import numpy as np\n",
    "from skimage import io\n",
    "from tqdm import tqdm\n",
    "import pickle\n"
   ]
  },
  {
   "cell_type": "code",
   "execution_count": 8,
   "metadata": {},
   "outputs": [],
   "source": [
    "def imageStore(cPath, dPath):\n",
    "    df = pd.read_csv(cPath+\".csv\")\n",
    "    for label in df[\"LV2\"].unique():\n",
    "        if not os.path.isdir(cPath):\n",
    "            os.makedirs(cPath)\n",
    "\n",
    "    for idx in df.index:\n",
    "        df[\"LV0\"][idx] = df[\"LV0\"][idx].replace(\"/\", \"+\")\n",
    "        df[\"LV1\"][idx] = df[\"LV1\"][idx].replace(\"/\", \"+\")\n",
    "        df[\"LV2\"][idx] = df[\"LV2\"][idx].replace(\"/\", \"+\")\n",
    "\n",
    "    df.to_csv(cPath+\".csv\", index=False, encoding=\"utf-8-sig\")\n",
    "\n",
    "    dropped_indices = []\n",
    "    imgs = []\n",
    "    lv2_names = []\n",
    "    for idx in tqdm(df.index):\n",
    "        try:\n",
    "            res = request.urlopen(df[\"IMG_URL\"][idx])\n",
    "            img = Image.open(BytesIO(res.read()))\n",
    "            if np.array(img).shape == (550, 550, 3):\n",
    "                imgs.append(img)\n",
    "                lv2_name = df[\"LV2\"][idx]\n",
    "                lv2_names.append(lv2_name)\n",
    "            else:\n",
    "                dropped_indices.append(idx)\n",
    "\n",
    "        except:\n",
    "            dropped_indices.append(idx)\n",
    "\n",
    "    with open(dPath+\"/imgs.p\", \"wb\") as f:\n",
    "        pickle.dump(imgs, f)\n",
    "\n",
    "    with open(dPath+\"/lv2_names.p\", \"wb\") as f:\n",
    "        pickle.dump(lv2_names, f)\n",
    "\n",
    "    with open(dPath+\"/dropped_indices.p\", \"wb\") as f:\n",
    "        pickle.dump(dropped_indices, f)\n",
    "\n",
    "    with open(dPath+\"/dropped_indices.p\", \"rb\") as f:\n",
    "        dropped_indices = pickle.load(f)\n",
    "\n",
    "    with open(dPath+\"/imgs.p\", \"rb\") as f:\n",
    "        imgs = pickle.load(f)\n",
    "\n",
    "    with open(dPath+\"/lv2_names.p\", \"rb\") as f:\n",
    "        lv2_names = pickle.load(f)\n",
    "\n",
    "    df2 = df.copy()\n",
    "    if len(df2[\"IMG_URL\"]) != len(imgs):\n",
    "        df2 = df2.drop([df2.index[idx] for idx in dropped_indices])\n",
    "        df2.to_csv(cPath+\".csv\", index=False, encoding=\"utf-8-sig\")\n",
    "\n",
    "    for label in df[\"LV2\"].unique():\n",
    "        if not os.path.isdir(cPath+f\"/{label}\"):\n",
    "            os.makedirs(cPath+f\"/{label}\")\n",
    "\n",
    "    for idx, img in tqdm(enumerate(imgs)):\n",
    "        try:\n",
    "            save_path = cPath+f\"/{lv2_names[idx]}\"\n",
    "            # print(save_path)\n",
    "            img.save(save_path+f\"/{df['PROD_ID'][idx]}.png\")\n",
    "        except:\n",
    "            print(idx)"
   ]
  },
  {
   "cell_type": "code",
   "execution_count": null,
   "metadata": {},
   "outputs": [],
   "source": []
  },
  {
   "cell_type": "code",
   "execution_count": 9,
   "metadata": {},
   "outputs": [],
   "source": [
    "common = {\n",
    "    \"침대-침실가구\":[\"매트리스\",\"수납장\",\"침대\"],\n",
    "    \"소파-거실가구\" : [\"거실장\", \"거실테이블\",\"소파\"]\n",
    "}\n",
    " "
   ]
  },
  {
   "cell_type": "code",
   "execution_count": 10,
   "metadata": {},
   "outputs": [
    {
     "output_type": "error",
     "ename": "FileExistsError",
     "evalue": "[WinError 183] 파일이 이미 있으므로 만들 수 없습니다: 'D:/download/csv/조명/스탠드조명'",
     "traceback": [
      "\u001b[1;31m---------------------------------------------------------------------------\u001b[0m",
      "\u001b[1;31mFileExistsError\u001b[0m                           Traceback (most recent call last)",
      "\u001b[1;32m<ipython-input-10-ab2b1c0ad4a2>\u001b[0m in \u001b[0;36m<module>\u001b[1;34m\u001b[0m\n\u001b[0;32m      5\u001b[0m         \u001b[0mdPath\u001b[0m \u001b[1;33m=\u001b[0m \u001b[1;34mf\"D:/download/csv/{key}/{value}\"\u001b[0m\u001b[1;33m\u001b[0m\u001b[1;33m\u001b[0m\u001b[0m\n\u001b[0;32m      6\u001b[0m \u001b[1;33m\u001b[0m\u001b[0m\n\u001b[1;32m----> 7\u001b[1;33m         \u001b[0mos\u001b[0m\u001b[1;33m.\u001b[0m\u001b[0mmakedirs\u001b[0m\u001b[1;33m(\u001b[0m\u001b[0mdPath\u001b[0m\u001b[1;33m)\u001b[0m\u001b[1;33m\u001b[0m\u001b[1;33m\u001b[0m\u001b[0m\n\u001b[0m\u001b[0;32m      8\u001b[0m         \u001b[0mprint\u001b[0m\u001b[1;33m(\u001b[0m\u001b[0mcPath\u001b[0m\u001b[1;33m)\u001b[0m\u001b[1;33m\u001b[0m\u001b[1;33m\u001b[0m\u001b[0m\n\u001b[0;32m      9\u001b[0m         \u001b[0mprint\u001b[0m\u001b[1;33m(\u001b[0m\u001b[0mdPath\u001b[0m\u001b[1;33m)\u001b[0m\u001b[1;33m\u001b[0m\u001b[1;33m\u001b[0m\u001b[0m\n",
      "\u001b[1;32mC:\\ProgramData\\Anaconda3\\lib\\os.py\u001b[0m in \u001b[0;36mmakedirs\u001b[1;34m(name, mode, exist_ok)\u001b[0m\n\u001b[0;32m    219\u001b[0m             \u001b[1;32mreturn\u001b[0m\u001b[1;33m\u001b[0m\u001b[1;33m\u001b[0m\u001b[0m\n\u001b[0;32m    220\u001b[0m     \u001b[1;32mtry\u001b[0m\u001b[1;33m:\u001b[0m\u001b[1;33m\u001b[0m\u001b[1;33m\u001b[0m\u001b[0m\n\u001b[1;32m--> 221\u001b[1;33m         \u001b[0mmkdir\u001b[0m\u001b[1;33m(\u001b[0m\u001b[0mname\u001b[0m\u001b[1;33m,\u001b[0m \u001b[0mmode\u001b[0m\u001b[1;33m)\u001b[0m\u001b[1;33m\u001b[0m\u001b[1;33m\u001b[0m\u001b[0m\n\u001b[0m\u001b[0;32m    222\u001b[0m     \u001b[1;32mexcept\u001b[0m \u001b[0mOSError\u001b[0m\u001b[1;33m:\u001b[0m\u001b[1;33m\u001b[0m\u001b[1;33m\u001b[0m\u001b[0m\n\u001b[0;32m    223\u001b[0m         \u001b[1;31m# Cannot rely on checking for EEXIST, since the operating system\u001b[0m\u001b[1;33m\u001b[0m\u001b[1;33m\u001b[0m\u001b[1;33m\u001b[0m\u001b[0m\n",
      "\u001b[1;31mFileExistsError\u001b[0m: [WinError 183] 파일이 이미 있으므로 만들 수 없습니다: 'D:/download/csv/조명/스탠드조명'"
     ]
    }
   ],
   "source": [
    "count = 0\n",
    "for key in common.keys():\n",
    "    for value in common[key]:\n",
    "        cPath = f\"./csv/{key}/{value}\"\n",
    "        dPath = f\"D:/download/csv/{key}/{value}\"\n",
    "        \n",
    "        os.makedirs(dPath)\n",
    "        print(cPath)\n",
    "        print(dPath)\n",
    "        imageStore(cPath, dPath)\n",
    "        print()\n",
    "        count += 1\n",
    "print(count)"
   ]
  },
  {
   "cell_type": "code",
   "execution_count": null,
   "metadata": {},
   "outputs": [],
   "source": []
  }
 ]
}