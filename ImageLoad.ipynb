{
 "metadata": {
  "language_info": {
   "codemirror_mode": {
    "name": "ipython",
    "version": 3
   },
   "file_extension": ".py",
   "mimetype": "text/x-python",
   "name": "python",
   "nbconvert_exporter": "python",
   "pygments_lexer": "ipython3",
   "version": "3.7.3-final"
  },
  "orig_nbformat": 2,
  "kernelspec": {
   "name": "python373jvsc74a57bd0b3ba2566441a7c06988d0923437866b63cedc61552a5af99d1f4fb67d367b25f",
   "display_name": "Python 3.7.3 64-bit (conda)"
  }
 },
 "nbformat": 4,
 "nbformat_minor": 2,
 "cells": [
  {
   "cell_type": "code",
   "execution_count": 39,
   "metadata": {},
   "outputs": [],
   "source": [
    "import pandas as pd\n",
    "import os\n",
    "from glob import glob\n",
    "from PIL import Image\n",
    "import matplotlib.pyplot as plt\n",
    "import cv2\n",
    "\n",
    "from urllib import request\n",
    "import urllib\n",
    "from io import BytesIO\n",
    "import numpy as np\n",
    "from skimage import io\n",
    "from tqdm import tqdm"
   ]
  },
  {
   "cell_type": "code",
   "execution_count": 40,
   "metadata": {},
   "outputs": [],
   "source": [
    "path = \"./csv/옷장-붙박이장/드레스룸\""
   ]
  },
  {
   "cell_type": "code",
   "execution_count": 41,
   "metadata": {},
   "outputs": [
    {
     "output_type": "execute_result",
     "data": {
      "text/plain": [
       "   PROD_ID                                PROD_NM      LV0   LV1       LV2  \\\n",
       "0    39556  한샘 샘베딩 드레스룸 40cm(높이 194cm) 행거형 B타입 2종  옷장/붙박이장  드레스룸  목대형 드레스룸   \n",
       "1    39557      한샘 샘베딩 드레스룸 40cm(높이 194cm) 선반형 2종  옷장/붙박이장  드레스룸  목대형 드레스룸   \n",
       "2    39559  한샘 샘베딩 드레스룸 80cm(높이 194cm) 행거형 A타입 2종  옷장/붙박이장  드레스룸  목대형 드레스룸   \n",
       "3    39560  한샘 샘베딩 드레스룸 80cm(높이 194cm) 행거형 B타입 2종  옷장/붙박이장  드레스룸  목대형 드레스룸   \n",
       "4    39563      한샘 샘베딩 드레스룸 80cm(높이 194cm) 선반형 2종  옷장/붙박이장  드레스룸  목대형 드레스룸   \n",
       "\n",
       "                                             IMG_URL           LV0_onehot  \\\n",
       "0  https://image.hanssem.com/hsimg//gds/550/39/39...  [0 0 1 0 0 0 0 0 0]   \n",
       "1  https://image.hanssem.com/hsimg//gds/550/39/39...  [0 0 1 0 0 0 0 0 0]   \n",
       "2  https://image.hanssem.com/hsimg//gds/550/39/39...  [0 0 1 0 0 0 0 0 0]   \n",
       "3  https://image.hanssem.com/hsimg//gds/550/39/39...  [0 0 1 0 0 0 0 0 0]   \n",
       "4  https://image.hanssem.com/hsimg//gds/550/39/39...  [0 0 1 0 0 0 0 0 0]   \n",
       "\n",
       "                                          LV1_onehot  \\\n",
       "0  [0 0 1 0 0 0 0 0 0 0 0 0 0 0 0 0 0 0 0 0 0 0 0...   \n",
       "1  [0 0 1 0 0 0 0 0 0 0 0 0 0 0 0 0 0 0 0 0 0 0 0...   \n",
       "2  [0 0 1 0 0 0 0 0 0 0 0 0 0 0 0 0 0 0 0 0 0 0 0...   \n",
       "3  [0 0 1 0 0 0 0 0 0 0 0 0 0 0 0 0 0 0 0 0 0 0 0...   \n",
       "4  [0 0 1 0 0 0 0 0 0 0 0 0 0 0 0 0 0 0 0 0 0 0 0...   \n",
       "\n",
       "                                          LV2_onehot  \n",
       "0  [0 0 0 0 0 0 0 0 0 0 0 0 0 0 0 0 0 0 0 0 0 0 0...  \n",
       "1  [0 0 0 0 0 0 0 0 0 0 0 0 0 0 0 0 0 0 0 0 0 0 0...  \n",
       "2  [0 0 0 0 0 0 0 0 0 0 0 0 0 0 0 0 0 0 0 0 0 0 0...  \n",
       "3  [0 0 0 0 0 0 0 0 0 0 0 0 0 0 0 0 0 0 0 0 0 0 0...  \n",
       "4  [0 0 0 0 0 0 0 0 0 0 0 0 0 0 0 0 0 0 0 0 0 0 0...  "
      ],
      "text/html": "<div>\n<style scoped>\n    .dataframe tbody tr th:only-of-type {\n        vertical-align: middle;\n    }\n\n    .dataframe tbody tr th {\n        vertical-align: top;\n    }\n\n    .dataframe thead th {\n        text-align: right;\n    }\n</style>\n<table border=\"1\" class=\"dataframe\">\n  <thead>\n    <tr style=\"text-align: right;\">\n      <th></th>\n      <th>PROD_ID</th>\n      <th>PROD_NM</th>\n      <th>LV0</th>\n      <th>LV1</th>\n      <th>LV2</th>\n      <th>IMG_URL</th>\n      <th>LV0_onehot</th>\n      <th>LV1_onehot</th>\n      <th>LV2_onehot</th>\n    </tr>\n  </thead>\n  <tbody>\n    <tr>\n      <th>0</th>\n      <td>39556</td>\n      <td>한샘 샘베딩 드레스룸 40cm(높이 194cm) 행거형 B타입 2종</td>\n      <td>옷장/붙박이장</td>\n      <td>드레스룸</td>\n      <td>목대형 드레스룸</td>\n      <td>https://image.hanssem.com/hsimg//gds/550/39/39...</td>\n      <td>[0 0 1 0 0 0 0 0 0]</td>\n      <td>[0 0 1 0 0 0 0 0 0 0 0 0 0 0 0 0 0 0 0 0 0 0 0...</td>\n      <td>[0 0 0 0 0 0 0 0 0 0 0 0 0 0 0 0 0 0 0 0 0 0 0...</td>\n    </tr>\n    <tr>\n      <th>1</th>\n      <td>39557</td>\n      <td>한샘 샘베딩 드레스룸 40cm(높이 194cm) 선반형 2종</td>\n      <td>옷장/붙박이장</td>\n      <td>드레스룸</td>\n      <td>목대형 드레스룸</td>\n      <td>https://image.hanssem.com/hsimg//gds/550/39/39...</td>\n      <td>[0 0 1 0 0 0 0 0 0]</td>\n      <td>[0 0 1 0 0 0 0 0 0 0 0 0 0 0 0 0 0 0 0 0 0 0 0...</td>\n      <td>[0 0 0 0 0 0 0 0 0 0 0 0 0 0 0 0 0 0 0 0 0 0 0...</td>\n    </tr>\n    <tr>\n      <th>2</th>\n      <td>39559</td>\n      <td>한샘 샘베딩 드레스룸 80cm(높이 194cm) 행거형 A타입 2종</td>\n      <td>옷장/붙박이장</td>\n      <td>드레스룸</td>\n      <td>목대형 드레스룸</td>\n      <td>https://image.hanssem.com/hsimg//gds/550/39/39...</td>\n      <td>[0 0 1 0 0 0 0 0 0]</td>\n      <td>[0 0 1 0 0 0 0 0 0 0 0 0 0 0 0 0 0 0 0 0 0 0 0...</td>\n      <td>[0 0 0 0 0 0 0 0 0 0 0 0 0 0 0 0 0 0 0 0 0 0 0...</td>\n    </tr>\n    <tr>\n      <th>3</th>\n      <td>39560</td>\n      <td>한샘 샘베딩 드레스룸 80cm(높이 194cm) 행거형 B타입 2종</td>\n      <td>옷장/붙박이장</td>\n      <td>드레스룸</td>\n      <td>목대형 드레스룸</td>\n      <td>https://image.hanssem.com/hsimg//gds/550/39/39...</td>\n      <td>[0 0 1 0 0 0 0 0 0]</td>\n      <td>[0 0 1 0 0 0 0 0 0 0 0 0 0 0 0 0 0 0 0 0 0 0 0...</td>\n      <td>[0 0 0 0 0 0 0 0 0 0 0 0 0 0 0 0 0 0 0 0 0 0 0...</td>\n    </tr>\n    <tr>\n      <th>4</th>\n      <td>39563</td>\n      <td>한샘 샘베딩 드레스룸 80cm(높이 194cm) 선반형 2종</td>\n      <td>옷장/붙박이장</td>\n      <td>드레스룸</td>\n      <td>목대형 드레스룸</td>\n      <td>https://image.hanssem.com/hsimg//gds/550/39/39...</td>\n      <td>[0 0 1 0 0 0 0 0 0]</td>\n      <td>[0 0 1 0 0 0 0 0 0 0 0 0 0 0 0 0 0 0 0 0 0 0 0...</td>\n      <td>[0 0 0 0 0 0 0 0 0 0 0 0 0 0 0 0 0 0 0 0 0 0 0...</td>\n    </tr>\n  </tbody>\n</table>\n</div>"
     },
     "metadata": {},
     "execution_count": 41
    }
   ],
   "source": [
    "df = pd.read_csv(path+\".csv\")\n",
    "df.head()"
   ]
  },
  {
   "cell_type": "code",
   "execution_count": 42,
   "metadata": {},
   "outputs": [
    {
     "output_type": "stream",
     "name": "stdout",
     "text": [
      "583\n"
     ]
    }
   ],
   "source": [
    "print(len(df))"
   ]
  },
  {
   "cell_type": "code",
   "execution_count": 43,
   "metadata": {},
   "outputs": [
    {
     "output_type": "stream",
     "name": "stdout",
     "text": [
      "['목대형 드레스룸' '철제형 드레스룸' '엑세서리옵션' '깊이 60cm' '스틸드레스룸(깊이40cm)' '가로 80cm'\n '가로 40cm' '서랍/수납형' '목대드레스룸(깊이60cm)' '목대드레스룸(깊이40cm)']\n"
     ]
    }
   ],
   "source": [
    "\n",
    "print(df[\"LV2\"].unique())"
   ]
  },
  {
   "cell_type": "code",
   "execution_count": 44,
   "metadata": {},
   "outputs": [],
   "source": [
    "for label in df[\"LV2\"].unique():\n",
    "    if not os.path.isdir(path):\n",
    "        os.makedirs(path)"
   ]
  },
  {
   "cell_type": "code",
   "execution_count": 45,
   "metadata": {},
   "outputs": [
    {
     "output_type": "stream",
     "name": "stderr",
     "text": [
      "ipykernel_launcher:2: SettingWithCopyWarning: \nA value is trying to be set on a copy of a slice from a DataFrame\n\nSee the caveats in the documentation: https://pandas.pydata.org/pandas-docs/stable/user_guide/indexing.html#returning-a-view-versus-a-copy\nipykernel_launcher:3: SettingWithCopyWarning: \nA value is trying to be set on a copy of a slice from a DataFrame\n\nSee the caveats in the documentation: https://pandas.pydata.org/pandas-docs/stable/user_guide/indexing.html#returning-a-view-versus-a-copy\nipykernel_launcher:4: SettingWithCopyWarning: \nA value is trying to be set on a copy of a slice from a DataFrame\n\nSee the caveats in the documentation: https://pandas.pydata.org/pandas-docs/stable/user_guide/indexing.html#returning-a-view-versus-a-copy\n"
     ]
    }
   ],
   "source": [
    "for idx in df.index:\n",
    "    df[\"LV0\"][idx] = df[\"LV0\"][idx].replace(\"/\",\"+\")\n",
    "    df[\"LV1\"][idx] = df[\"LV1\"][idx].replace(\"/\",\"+\")\n",
    "    df[\"LV2\"][idx] = df[\"LV2\"][idx].replace(\"/\",\"+\")"
   ]
  },
  {
   "cell_type": "code",
   "execution_count": 46,
   "metadata": {},
   "outputs": [
    {
     "output_type": "execute_result",
     "data": {
      "text/plain": [
       "   PROD_ID                                PROD_NM      LV0   LV1       LV2  \\\n",
       "0    39556  한샘 샘베딩 드레스룸 40cm(높이 194cm) 행거형 B타입 2종  옷장+붙박이장  드레스룸  목대형 드레스룸   \n",
       "1    39557      한샘 샘베딩 드레스룸 40cm(높이 194cm) 선반형 2종  옷장+붙박이장  드레스룸  목대형 드레스룸   \n",
       "2    39559  한샘 샘베딩 드레스룸 80cm(높이 194cm) 행거형 A타입 2종  옷장+붙박이장  드레스룸  목대형 드레스룸   \n",
       "3    39560  한샘 샘베딩 드레스룸 80cm(높이 194cm) 행거형 B타입 2종  옷장+붙박이장  드레스룸  목대형 드레스룸   \n",
       "4    39563      한샘 샘베딩 드레스룸 80cm(높이 194cm) 선반형 2종  옷장+붙박이장  드레스룸  목대형 드레스룸   \n",
       "\n",
       "                                             IMG_URL           LV0_onehot  \\\n",
       "0  https://image.hanssem.com/hsimg//gds/550/39/39...  [0 0 1 0 0 0 0 0 0]   \n",
       "1  https://image.hanssem.com/hsimg//gds/550/39/39...  [0 0 1 0 0 0 0 0 0]   \n",
       "2  https://image.hanssem.com/hsimg//gds/550/39/39...  [0 0 1 0 0 0 0 0 0]   \n",
       "3  https://image.hanssem.com/hsimg//gds/550/39/39...  [0 0 1 0 0 0 0 0 0]   \n",
       "4  https://image.hanssem.com/hsimg//gds/550/39/39...  [0 0 1 0 0 0 0 0 0]   \n",
       "\n",
       "                                          LV1_onehot  \\\n",
       "0  [0 0 1 0 0 0 0 0 0 0 0 0 0 0 0 0 0 0 0 0 0 0 0...   \n",
       "1  [0 0 1 0 0 0 0 0 0 0 0 0 0 0 0 0 0 0 0 0 0 0 0...   \n",
       "2  [0 0 1 0 0 0 0 0 0 0 0 0 0 0 0 0 0 0 0 0 0 0 0...   \n",
       "3  [0 0 1 0 0 0 0 0 0 0 0 0 0 0 0 0 0 0 0 0 0 0 0...   \n",
       "4  [0 0 1 0 0 0 0 0 0 0 0 0 0 0 0 0 0 0 0 0 0 0 0...   \n",
       "\n",
       "                                          LV2_onehot  \n",
       "0  [0 0 0 0 0 0 0 0 0 0 0 0 0 0 0 0 0 0 0 0 0 0 0...  \n",
       "1  [0 0 0 0 0 0 0 0 0 0 0 0 0 0 0 0 0 0 0 0 0 0 0...  \n",
       "2  [0 0 0 0 0 0 0 0 0 0 0 0 0 0 0 0 0 0 0 0 0 0 0...  \n",
       "3  [0 0 0 0 0 0 0 0 0 0 0 0 0 0 0 0 0 0 0 0 0 0 0...  \n",
       "4  [0 0 0 0 0 0 0 0 0 0 0 0 0 0 0 0 0 0 0 0 0 0 0...  "
      ],
      "text/html": "<div>\n<style scoped>\n    .dataframe tbody tr th:only-of-type {\n        vertical-align: middle;\n    }\n\n    .dataframe tbody tr th {\n        vertical-align: top;\n    }\n\n    .dataframe thead th {\n        text-align: right;\n    }\n</style>\n<table border=\"1\" class=\"dataframe\">\n  <thead>\n    <tr style=\"text-align: right;\">\n      <th></th>\n      <th>PROD_ID</th>\n      <th>PROD_NM</th>\n      <th>LV0</th>\n      <th>LV1</th>\n      <th>LV2</th>\n      <th>IMG_URL</th>\n      <th>LV0_onehot</th>\n      <th>LV1_onehot</th>\n      <th>LV2_onehot</th>\n    </tr>\n  </thead>\n  <tbody>\n    <tr>\n      <th>0</th>\n      <td>39556</td>\n      <td>한샘 샘베딩 드레스룸 40cm(높이 194cm) 행거형 B타입 2종</td>\n      <td>옷장+붙박이장</td>\n      <td>드레스룸</td>\n      <td>목대형 드레스룸</td>\n      <td>https://image.hanssem.com/hsimg//gds/550/39/39...</td>\n      <td>[0 0 1 0 0 0 0 0 0]</td>\n      <td>[0 0 1 0 0 0 0 0 0 0 0 0 0 0 0 0 0 0 0 0 0 0 0...</td>\n      <td>[0 0 0 0 0 0 0 0 0 0 0 0 0 0 0 0 0 0 0 0 0 0 0...</td>\n    </tr>\n    <tr>\n      <th>1</th>\n      <td>39557</td>\n      <td>한샘 샘베딩 드레스룸 40cm(높이 194cm) 선반형 2종</td>\n      <td>옷장+붙박이장</td>\n      <td>드레스룸</td>\n      <td>목대형 드레스룸</td>\n      <td>https://image.hanssem.com/hsimg//gds/550/39/39...</td>\n      <td>[0 0 1 0 0 0 0 0 0]</td>\n      <td>[0 0 1 0 0 0 0 0 0 0 0 0 0 0 0 0 0 0 0 0 0 0 0...</td>\n      <td>[0 0 0 0 0 0 0 0 0 0 0 0 0 0 0 0 0 0 0 0 0 0 0...</td>\n    </tr>\n    <tr>\n      <th>2</th>\n      <td>39559</td>\n      <td>한샘 샘베딩 드레스룸 80cm(높이 194cm) 행거형 A타입 2종</td>\n      <td>옷장+붙박이장</td>\n      <td>드레스룸</td>\n      <td>목대형 드레스룸</td>\n      <td>https://image.hanssem.com/hsimg//gds/550/39/39...</td>\n      <td>[0 0 1 0 0 0 0 0 0]</td>\n      <td>[0 0 1 0 0 0 0 0 0 0 0 0 0 0 0 0 0 0 0 0 0 0 0...</td>\n      <td>[0 0 0 0 0 0 0 0 0 0 0 0 0 0 0 0 0 0 0 0 0 0 0...</td>\n    </tr>\n    <tr>\n      <th>3</th>\n      <td>39560</td>\n      <td>한샘 샘베딩 드레스룸 80cm(높이 194cm) 행거형 B타입 2종</td>\n      <td>옷장+붙박이장</td>\n      <td>드레스룸</td>\n      <td>목대형 드레스룸</td>\n      <td>https://image.hanssem.com/hsimg//gds/550/39/39...</td>\n      <td>[0 0 1 0 0 0 0 0 0]</td>\n      <td>[0 0 1 0 0 0 0 0 0 0 0 0 0 0 0 0 0 0 0 0 0 0 0...</td>\n      <td>[0 0 0 0 0 0 0 0 0 0 0 0 0 0 0 0 0 0 0 0 0 0 0...</td>\n    </tr>\n    <tr>\n      <th>4</th>\n      <td>39563</td>\n      <td>한샘 샘베딩 드레스룸 80cm(높이 194cm) 선반형 2종</td>\n      <td>옷장+붙박이장</td>\n      <td>드레스룸</td>\n      <td>목대형 드레스룸</td>\n      <td>https://image.hanssem.com/hsimg//gds/550/39/39...</td>\n      <td>[0 0 1 0 0 0 0 0 0]</td>\n      <td>[0 0 1 0 0 0 0 0 0 0 0 0 0 0 0 0 0 0 0 0 0 0 0...</td>\n      <td>[0 0 0 0 0 0 0 0 0 0 0 0 0 0 0 0 0 0 0 0 0 0 0...</td>\n    </tr>\n  </tbody>\n</table>\n</div>"
     },
     "metadata": {},
     "execution_count": 46
    }
   ],
   "source": [
    "df.head()"
   ]
  },
  {
   "cell_type": "code",
   "execution_count": 47,
   "metadata": {},
   "outputs": [],
   "source": [
    "df.to_csv(path+\".csv\", index=False, encoding=\"utf-8-sig\")"
   ]
  },
  {
   "cell_type": "code",
   "execution_count": 48,
   "metadata": {},
   "outputs": [
    {
     "output_type": "stream",
     "name": "stderr",
     "text": [
      "100%|██████████| 583/583 [01:52<00:00,  5.18it/s]\n"
     ]
    }
   ],
   "source": [
    "dropped_indices = []\n",
    "imgs = []\n",
    "lv2_names = []\n",
    "for idx in tqdm(df.index):\n",
    "    try:\n",
    "        res = request.urlopen(df[\"IMG_URL\"][idx])\n",
    "        img = Image.open(BytesIO(res.read())) \n",
    "        if np.array(img).shape == (550,550,3) :\n",
    "            imgs.append(img)\n",
    "            lv2_name = df[\"LV2\"][idx]\n",
    "            lv2_names.append(lv2_name)\n",
    "        else:\n",
    "            dropped_indices.append(idx)\n",
    "        \n",
    "    except:\n",
    "        dropped_indices.append(idx)"
   ]
  },
  {
   "cell_type": "code",
   "execution_count": 49,
   "metadata": {},
   "outputs": [],
   "source": [
    "import pickle\n",
    "dPath = \"D:/download/csv/옷장-붙박이장/드레스룸\""
   ]
  },
  {
   "cell_type": "code",
   "execution_count": 50,
   "metadata": {},
   "outputs": [],
   "source": [
    "with open(dPath+\"/imgs.p\", \"wb\") as f:\n",
    "    pickle.dump(imgs, f)\n",
    "\n",
    "with open(dPath+\"/lv2_names.p\", \"wb\") as f:\n",
    "    pickle.dump(lv2_names, f)\n",
    "\n",
    "with open(dPath+\"/dropped_indices.p\", \"wb\") as f:\n",
    "    pickle.dump(dropped_indices, f)"
   ]
  },
  {
   "cell_type": "code",
   "execution_count": 51,
   "metadata": {},
   "outputs": [
    {
     "output_type": "execute_result",
     "data": {
      "text/plain": [
       "2"
      ]
     },
     "metadata": {},
     "execution_count": 51
    }
   ],
   "source": [
    "\n",
    "with open(dPath+\"/dropped_indices.p\", \"rb\") as f:\n",
    "    dropped_indices = pickle.load(f)\n",
    "len(dropped_indices)"
   ]
  },
  {
   "cell_type": "code",
   "execution_count": 52,
   "metadata": {},
   "outputs": [
    {
     "output_type": "execute_result",
     "data": {
      "text/plain": [
       "581"
      ]
     },
     "metadata": {},
     "execution_count": 52
    }
   ],
   "source": [
    "with open(dPath+\"/imgs.p\", \"rb\") as f:\n",
    "    imgs = pickle.load(f)\n",
    "len(imgs)"
   ]
  },
  {
   "cell_type": "code",
   "execution_count": 53,
   "metadata": {},
   "outputs": [
    {
     "output_type": "execute_result",
     "data": {
      "text/plain": [
       "581"
      ]
     },
     "metadata": {},
     "execution_count": 53
    }
   ],
   "source": [
    "with open(dPath+\"/lv2_names.p\", \"rb\") as f:\n",
    "    lv2_names = pickle.load(f)\n",
    "len(lv2_names)"
   ]
  },
  {
   "cell_type": "code",
   "execution_count": 54,
   "metadata": {},
   "outputs": [],
   "source": [
    "\n",
    "df2 = df.copy()\n",
    "if len(df2[\"IMG_URL\"]) != len(imgs):\n",
    "    df2 = df2.drop([df2.index[idx] for idx in dropped_indices])\n",
    "    df2.to_csv(path+\".csv\", index=False, encoding=\"utf-8-sig\")"
   ]
  },
  {
   "cell_type": "code",
   "execution_count": 55,
   "metadata": {},
   "outputs": [
    {
     "output_type": "execute_result",
     "data": {
      "text/plain": [
       "(581, 581)"
      ]
     },
     "metadata": {},
     "execution_count": 55
    }
   ],
   "source": [
    "len(df2[\"IMG_URL\"]), len(imgs)"
   ]
  },
  {
   "cell_type": "code",
   "execution_count": 56,
   "metadata": {},
   "outputs": [],
   "source": [
    "for label in df[\"LV2\"].unique():\n",
    "    if not os.path.isdir(path+f\"/{label}\"):\n",
    "        os.makedirs(path+f\"/{label}\")"
   ]
  },
  {
   "cell_type": "code",
   "execution_count": 57,
   "metadata": {},
   "outputs": [
    {
     "output_type": "stream",
     "name": "stderr",
     "text": [
      "581it [00:30, 18.76it/s]\n"
     ]
    }
   ],
   "source": [
    "for idx,img in tqdm(enumerate(imgs)):\n",
    "    save_path = path+f\"/{lv2_names[idx]}\"\n",
    "    # print(save_path)\n",
    "    img.save(save_path+f\"/{df['PROD_ID'][idx]}.png\")"
   ]
  },
  {
   "cell_type": "code",
   "execution_count": null,
   "metadata": {},
   "outputs": [],
   "source": []
  }
 ]
}